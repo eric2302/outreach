{
  "cells": [
    {
      "cell_type": "markdown",
      "metadata": {
        "id": "7NdRZg4Q4wUs"
      },
      "source": [
        "## Collect the Repository and Install all Dependencies\n",
        "This may take some time."
      ]
    },
    {
      "cell_type": "code",
      "execution_count": null,
      "metadata": {
        "colab": {
          "base_uri": "https://localhost:8080/"
        },
        "id": "XpjaKOjI3VsN",
        "outputId": "2175bdb5-4654-4ee0-9401-1040faa32e5a"
      },
      "outputs": [],
      "source": [
        "!if [ -d \"outreach\" ]; then echo \"Repo already cloned.\" && cd outreach && git pull && cd ..; else echo \"Collecting Outreach Repository\" && git clone https://github.com/openneuropet/outreach.git; fi\n",
        "from os.path import basename\n",
        "from os import getcwd\n",
        "if basename(getcwd()) == 'StratNeuro2024':\n",
        "    pass\n",
        "else:\n",
        "    %cd outreach/StratNeuro2024/\n",
        "\n",
        "!pip install nipype jedi pypet2bids\n",
        "!apt-get install pigz tree\n",
        "\n",
        "# Install Deno\n",
        "!curl -fsSL https://deno.land/install.sh | sh\n",
        "!export DENO_INSTALL=\"/root/.deno\"\n",
        "!export PATH=\"$DENO_INSTALL/bin:$PATH\""
      ]
    },
    {
      "cell_type": "markdown",
      "metadata": {
        "id": "ZBHDnhIs3Jbx"
      },
      "source": [
        "## Download Phantom ZIP and Extract"
      ]
    },
    {
      "cell_type": "code",
      "execution_count": null,
      "metadata": {
        "colab": {
          "base_uri": "https://localhost:8080/"
        },
        "id": "l0pLs9KqpYsz",
        "outputId": "0326fb12-a7d6-4607-9cfc-40333490feb7"
      },
      "outputs": [],
      "source": [
        "!if [ ! -f \"PHANTOMS.zip\" ]; then wget -O PHANTOMS.zip https://openneuropet.s3.amazonaws.com/US-sourced-OpenNeuroPET-Phantoms.zip; fi\n",
        "# unzip quietly in either case\n",
        "!unzip -q -o PHANTOMS.zip"
      ]
    },
    {
      "cell_type": "markdown",
      "metadata": {
        "id": "NK8plUDd7SrK"
      },
      "source": [
        "## Install Tree"
      ]
    },
    {
      "cell_type": "code",
      "execution_count": null,
      "metadata": {
        "id": "jRJcdednwHWO"
      },
      "outputs": [],
      "source": [
        "import subprocess\n",
        "check_for_tree = subprocess.run(['which', 'tree'], capture_output=True)\n",
        "if check_for_tree.returncode == 0:\n",
        "    pass\n",
        "else:\n",
        "    import platform\n",
        "    operating_system = platform.system()\n",
        "    if operating_system == 'Linux':\n",
        "        subprocess.run(\"apt-get install tree -y\", shell=True)\n",
        "    elif operating_system == 'Darwin':\n",
        "        subprocess.run(\"brew install tree\", shell=True)\n",
        "    else:\n",
        "        print(\"You're on your own windows user.\")"
      ]
    },
    {
      "cell_type": "code",
      "execution_count": null,
      "metadata": {
        "colab": {
          "base_uri": "https://localhost:8080/"
        },
        "id": "NBoaIuC9NjPz",
        "outputId": "6bff68b0-9b06-4cac-a706-fc9fd4e35e68"
      },
      "outputs": [],
      "source": [
        "# Download freesurfer 7.4.1\n",
        "!wget https://surfer.nmr.mgh.harvard.edu/pub/dist/freesurfer/7.4.1/freesurfer-linux-ubuntu22_amd64-7.4.1.tar.gz\n",
        "!if [ -f freesurfer-linux-ubuntu22_amd64-7.4.1.tar.gz ]; then time pigz -dc freesurfer-linux-ubuntu22_amd64-7.4.1.tar.gz | tar xf -; fi\n",
        "import os, sys\n",
        "# append freesurfer to system path\n",
        "freesurfer_path = os.path.join(os.getcwd(), 'freesurfer/bin/')\n",
        "os.getenv('PATH')\n",
        "if freesurfer_path not in os.environ['PATH']:\n",
        "  os.environ['PATH'] = freesurfer_path + ':' + os.getenv('PATH')\n",
        "freesurfer_home = os.environ['FREESURFER_HOME'] = os.path.join(os.getcwd(), 'freesurfer')\n",
        "subjects_dir = os.environ['SUBJECTS_DIR'] = os.path.join(os.getcwd(), 'freesurfer', 'subjects')\n",
        "\n",
        "def set_global_variables():\n",
        "    global freesurfer_home\n",
        "    global subjects_dir\n",
        "\n",
        "set_global_variables()\n",
        "\n",
        "# copy license file into freesurfer home\n",
        "!cp license.txt $FREESURFER_HOME/\n",
        "!echo $PATH\n",
        "!mri_coreg --version\n"
      ]
    },
    {
      "cell_type": "code",
      "execution_count": null,
      "metadata": {
        "id": "i79sJWmVUTGD"
      },
      "outputs": [],
      "source": [
        "#%cd /content/outreach/Neurohackademy2022/\n",
        "#freesurfer_home = os.environ['FREESURFER_HOME'] = os.path.join(os.getcwd(), 'freesurfer')\n",
        "#subjects_dir = os.environ['SUBJECTS_DIR'] = os.path.join(os.getcwd(), 'freesurfer', 'subjects')\n",
        "\n",
        "#def set_global_variables():\n",
        "#    global freesurfer_home\n",
        "#    global subjects_dir\n",
        "\n",
        "#set_global_variables()"
      ]
    },
    {
      "cell_type": "code",
      "execution_count": null,
      "metadata": {
        "colab": {
          "base_uri": "https://localhost:8080/"
        },
        "id": "yG7EVprcYRgh",
        "outputId": "b2df5a21-df02-460a-d3ca-6e909ea29f72"
      },
      "outputs": [],
      "source": [
        "print(freesurfer_home)"
      ]
    },
    {
      "cell_type": "markdown",
      "metadata": {
        "id": "cgWcLxDP7fkg"
      },
      "source": [
        "## Take a quick look at the raw dicom and ecat data that we've unzipped into this project folder."
      ]
    },
    {
      "cell_type": "code",
      "execution_count": null,
      "metadata": {
        "colab": {
          "base_uri": "https://localhost:8080/"
        },
        "id": "oNGqcj0uvzjQ",
        "outputId": "b5dcf49e-f110-4447-8ab0-4b02e1f6fc8f"
      },
      "outputs": [],
      "source": [
        "!tree OpenNeuroPET-Phantoms/sourcedata --filelimit 15"
      ]
    },
    {
      "cell_type": "markdown",
      "metadata": {
        "id": "enkixkXX7wBc"
      },
      "source": [
        "## Check for dcm2niix and install if it's not present.\n",
        "\n",
        "Additionally, we tell pypet2bids where the dcm2niix executable is located at, this is best practice on windows and any sort of virtual environment/notebook as the $PATH variable can be \"wonky\" in the later case."
      ]
    },
    {
      "cell_type": "code",
      "execution_count": null,
      "metadata": {
        "colab": {
          "base_uri": "https://localhost:8080/"
        },
        "id": "0d5d_WQr061H",
        "outputId": "b279e559-3aa3-4f79-b797-bb65c16595d8"
      },
      "outputs": [],
      "source": [
        "# check for dcm2niix\n",
        "import platform\n",
        "import os\n",
        "from pathlib import Path\n",
        "\n",
        "check_dcm2niix = subprocess.run(\"which dcm2niix\", shell=True, capture_output=True)\n",
        "if check_dcm2niix.returncode == 0:\n",
        "    print('dcm2niix is installed')\n",
        "    version = subprocess.run('dcm2niix --version', shell=True, capture_output=True).stdout.decode()\n",
        "    print(version)\n",
        "    # set dcm2niix path as this is running in an ipython notebook\n",
        "    dcm2niix_path = subprocess.run(\"which dcm2niix\", shell=True, capture_output=True)\n",
        "    subprocess.run(f\"dcm2niix4pet --set-dcm2niix-path {dcm2niix_path.stdout.decode()}\", shell=True)\n",
        "else:\n",
        "    print('dcm2niix is not installed')\n",
        "    operating_system = platform.system()\n",
        "\n",
        "    if operating_system == 'Linux':\n",
        "        dcm2niix_install_dir = Path(\"dcm2niix_install\")\n",
        "        print(f\"dcm2niix_install_dir {dcm2niix_install_dir}\")\n",
        "        if not dcm2niix_install_dir.exists():\n",
        "            os.mkdir(dcm2niix_install_dir)\n",
        "        subprocess.run(\"curl -fLO https://github.com/rordenlab/dcm2niix/releases/download/v1.0.20230411/dcm2niix_lnx.zip\",\n",
        "                         cwd=dcm2niix_install_dir,\n",
        "                         shell=True)\n",
        "        subprocess.run(\"unzip dcm2niix*.zip\",\n",
        "                         shell=True,\n",
        "                         cwd=dcm2niix_install_dir)\n",
        "        if str(dcm2niix_install_dir) not in os.environ.get('PATH', ''):\n",
        "            os.environ['PATH'] += os.pathsep + str(dcm2niix_install_dir.resolve())\n",
        "        # ensure it's on the path\n",
        "        check_dcm2niix_on_path = subprocess.run('dcm2niix --version && which dcm2niix', shell=True, capture_output=True)\n",
        "        check_dcm2niix_on_path.stdout.decode()\n",
        "    elif operating_system == 'Darwin':\n",
        "        subprocess.run(\"brew install dcm2niix\", shell=True)\n",
        "    else:\n",
        "        print(\"You're on your own windows user.\")"
      ]
    },
    {
      "cell_type": "code",
      "execution_count": null,
      "metadata": {
        "id": "lpozQIn0m0gx"
      },
      "outputs": [],
      "source": [
        "# import the relevant Python packages\n",
        "import numpy\n",
        "import nibabel\n",
        "import nipype\n",
        "import matplotlib\n",
        "import subprocess"
      ]
    },
    {
      "cell_type": "markdown",
      "metadata": {
        "id": "fO7qfZhDKXO9"
      },
      "source": [
        "## Setup the bids-validator\n",
        "This is the easiest way to get the bids validator running on a Colab Notebook, from here on out it can be called with `bids-validator()`"
      ]
    },
    {
      "cell_type": "code",
      "execution_count": null,
      "metadata": {
        "colab": {
          "base_uri": "https://localhost:8080/"
        },
        "id": "9ex5g0q6Geel",
        "outputId": "5f298533-35e6-4e54-a5ee-d81216f130c7"
      },
      "outputs": [],
      "source": [
        "import subprocess\n",
        "\n",
        "def bids_validator(path_to_dataset='.'):\n",
        "  validator = subprocess.run(f\"/root/.deno/bin/deno run --allow-read --allow-env https://deno.land/x/bids_validator/bids-validator.ts {path_to_dataset}\", shell=True, capture_output=True, text=True)\n",
        "  print(validator.stdout)\n",
        "\n",
        "bids_validator('')"
      ]
    },
    {
      "cell_type": "markdown",
      "metadata": {
        "id": "MaFn08tY8ZOl"
      },
      "source": [
        "## Examine and convert some dicoms obtained from our PHANTOMS.zip with dcm2niix4pet."
      ]
    },
    {
      "cell_type": "code",
      "execution_count": null,
      "metadata": {
        "colab": {
          "base_uri": "https://localhost:8080/"
        },
        "id": "K_No-S4Awa7N",
        "outputId": "9d99c44f-2bb3-4d30-efb5-5f7ea8dd6c3f"
      },
      "outputs": [],
      "source": [
        "!dcm2niix4pet ./OpenNeuroPET-Phantoms/sourcedata/SiemensBiographPETMR-NIMH/AC_TOF -d mynewfolder"
      ]
    },
    {
      "cell_type": "code",
      "execution_count": null,
      "metadata": {
        "colab": {
          "base_uri": "https://localhost:8080/"
        },
        "id": "pm3Hgam_1lvR",
        "outputId": "92988d8c-51d0-4259-8d7a-585daf4abe26"
      },
      "outputs": [],
      "source": [
        "!tree ./mynewfolder"
      ]
    },
    {
      "cell_type": "code",
      "execution_count": null,
      "metadata": {
        "colab": {
          "base_uri": "https://localhost:8080/"
        },
        "id": "v1xM2hVK1pCF",
        "outputId": "d4d114c8-230e-47ff-af14-125dd031ce2e"
      },
      "outputs": [],
      "source": [
        "!dcm2niix4pet ./OpenNeuroPET-Phantoms/sourcedata/SiemensBiographPETMR-NIMH/AC_TOF -d mynewfolder2 --kwargs TimeZero=ScanStart Manufacturer=Siemens ManufacturersModelName=Biograph InstitutionName=\"NIH Clinical Center\" BodyPart=Phantom Units=Bq/mL TracerName=none TracerRadionuclide=F18 InjectedRadioactivity=81.24 SpecificRadioactivity=13019.23 ModeOfAdministration=infusion FrameTimesStart=0 AcquisitionMode=\"list mode\" ImageDecayCorrected=true ImageDecayCorrectionTime=0 AttenuationCorrection=MR-corrected FrameDuration=300 FrameTimesStart=0"
      ]
    },
    {
      "cell_type": "markdown",
      "metadata": {
        "id": "iq5V5Gtu5w0b"
      },
      "source": [
        "## run only if freesurfer is installed"
      ]
    },
    {
      "cell_type": "code",
      "execution_count": null,
      "metadata": {
        "id": "tDGo8KQ51uHe"
      },
      "outputs": [],
      "source": [
        "!mkdir PETprocessing"
      ]
    },
    {
      "cell_type": "code",
      "execution_count": null,
      "metadata": {
        "id": "hrECWZDq1xPB"
      },
      "outputs": [],
      "source": [
        "!cd PETprocessing"
      ]
    },
    {
      "cell_type": "code",
      "execution_count": null,
      "metadata": {
        "colab": {
          "base_uri": "https://localhost:8080/"
        },
        "id": "Qju2_cJO10Wb",
        "outputId": "5ec3c0c0-7bc7-4a78-cab2-776679c63e5f"
      },
      "outputs": [],
      "source": [
        "!if [ -d \"PET_pipelines\" ]; then pushd PET_pipelines && git pull; else git clone https://github.com/openneuropet/PET_pipelines.git; fi"
      ]
    },
    {
      "cell_type": "code",
      "execution_count": null,
      "metadata": {
        "colab": {
          "base_uri": "https://localhost:8080/"
        },
        "id": "578shAXE2TMV",
        "outputId": "6f7d57f2-e95e-4153-a802-0a14ae3a12dc"
      },
      "outputs": [],
      "source": [
        "!ls PET_pipelines/pyPetSurfer"
      ]
    },
    {
      "cell_type": "code",
      "execution_count": null,
      "metadata": {
        "colab": {
          "base_uri": "https://localhost:8080/"
        },
        "id": "BhkxGtPM2K-N",
        "outputId": "60c7a27e-1666-451e-b085-b2cac06eadf2"
      },
      "outputs": [],
      "source": [
        "%cd PET_pipelines/pyPetSurfer\n",
        "!wget /dev/null https://www.dropbox.com/sh/69dwtnv29wd7jlx/AADnw5FvAANpvzKAxVQTnyhBa?dl=0\n",
        "!if [ -f AADnw5FvAANpvzKAxVQTnyhBa?dl=0 ]; then unzip -o AADnw5FvAANpvzKAxVQTnyhBa?dl=0; fi\n",
        "!if [ ! -f AADnw5FvAANpvzKAxVQTnyhBa?dl=0 ]; then chmod +x ds001421-1.4.1.sh && mkdir ds001421-download/; fi\n",
        "!if [ ! -f AADnw5FvAANpvzKAxVQTnyhBa?dl=0 ]; then cp ds001421-1.4.1.sh ds001421-download/; fi\n",
        "!if [ ! -f AADnw5FvAANpvzKAxVQTnyhBa?dl=0 ]; then cd ds001421-download/ && ./ds001421-1.4.1.sh && rm ds001421-1.4.1.sh; fi"
      ]
    },
    {
      "cell_type": "code",
      "execution_count": null,
      "metadata": {
        "colab": {
          "base_uri": "https://localhost:8080/"
        },
        "id": "w4zrtiBq38UY",
        "outputId": "9f9aabd6-ee52-408e-8d05-bd5350119a8f"
      },
      "outputs": [],
      "source": [
        "os.environ['FREESURFER_HOME'] = freesurfer_home\n",
        "os.environ['SUBJECTS_DIR'] = subjects_dir\n",
        "!ls && python3 example.py"
      ]
    },
    {
      "cell_type": "code",
      "execution_count": null,
      "metadata": {
        "id": "KK5I5qhJ31VJ"
      },
      "outputs": [],
      "source": [
        "!ls ."
      ]
    }
  ],
  "metadata": {
    "colab": {
      "history_visible": true,
      "provenance": []
    },
    "kernelspec": {
      "display_name": "Python 3",
      "name": "python3"
    },
    "language_info": {
      "codemirror_mode": {
        "name": "ipython",
        "version": 3
      },
      "file_extension": ".py",
      "mimetype": "text/x-python",
      "name": "python",
      "nbconvert_exporter": "python",
      "pygments_lexer": "ipython3",
      "version": "3.11.0"
    }
  },
  "nbformat": 4,
  "nbformat_minor": 0
}
