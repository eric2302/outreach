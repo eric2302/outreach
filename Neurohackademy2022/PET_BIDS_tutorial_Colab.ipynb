{
  "cells": [
    {
      "cell_type": "code",
      "execution_count": 1,
      "metadata": {
        "id": "zAF7-dSvn5B9"
      },
      "outputs": [
        {
          "name": "stdout",
          "output_type": "stream",
          "text": [
            "\u001b[33mWARNING: Skipping /Users/galassiae/fsl/lib/python3.11/site-packages/nlopt-2.7.1.dist-info due to invalid metadata entry 'name'\u001b[0m\u001b[33m\n",
            "\u001b[0mCollecting nipype\n",
            "  Using cached nipype-1.8.6-py3-none-any.whl (3.2 MB)\n",
            "Requirement already satisfied: click>=6.6.0 in /Users/galassiae/fsl/lib/python3.11/site-packages (from nipype) (8.1.7)\n",
            "Requirement already satisfied: networkx>=2.0 in /Users/galassiae/fsl/lib/python3.11/site-packages (from nipype) (3.1)\n",
            "Requirement already satisfied: nibabel>=2.1.0 in /Users/galassiae/fsl/lib/python3.11/site-packages (from nipype) (5.0.1)\n",
            "Requirement already satisfied: numpy>=1.17 in /Users/galassiae/fsl/lib/python3.11/site-packages (from nipype) (1.24.4)\n",
            "Requirement already satisfied: packaging in /Users/galassiae/fsl/lib/python3.11/site-packages (from nipype) (23.1)\n",
            "Requirement already satisfied: prov>=1.5.2 in /Users/galassiae/fsl/lib/python3.11/site-packages (from nipype) (2.0.0)\n",
            "Requirement already satisfied: pydot>=1.2.3 in /Users/galassiae/fsl/lib/python3.11/site-packages (from nipype) (1.4.2)\n",
            "Requirement already satisfied: python-dateutil>=2.2 in /Users/galassiae/fsl/lib/python3.11/site-packages (from nipype) (2.8.2)\n",
            "Requirement already satisfied: rdflib>=5.0.0 in /Users/galassiae/fsl/lib/python3.11/site-packages (from nipype) (7.0.0)\n",
            "Requirement already satisfied: scipy>=0.14 in /Users/galassiae/fsl/lib/python3.11/site-packages (from nipype) (1.11.2)\n",
            "Collecting simplejson>=3.8.0 (from nipype)\n",
            "  Using cached simplejson-3.19.2-cp311-cp311-macosx_11_0_arm64.whl (74 kB)\n",
            "Collecting traits!=5.0,<6.4,>=4.6 (from nipype)\n",
            "  Using cached traits-6.3.2-cp311-cp311-macosx_10_9_universal2.whl\n",
            "Collecting filelock>=3.0.0 (from nipype)\n",
            "  Downloading filelock-3.14.0-py3-none-any.whl (12 kB)\n",
            "Collecting etelemetry>=0.2.0 (from nipype)\n",
            "  Using cached etelemetry-0.3.1-py3-none-any.whl (6.4 kB)\n",
            "Collecting looseversion (from nipype)\n",
            "  Using cached looseversion-1.3.0-py2.py3-none-any.whl (8.2 kB)\n",
            "Requirement already satisfied: requests in /Users/galassiae/fsl/lib/python3.11/site-packages (from etelemetry>=0.2.0->nipype) (2.31.0)\n",
            "Collecting ci-info>=0.2 (from etelemetry>=0.2.0->nipype)\n",
            "  Using cached ci_info-0.3.0-py3-none-any.whl (7.8 kB)\n",
            "Requirement already satisfied: setuptools in /Users/galassiae/fsl/lib/python3.11/site-packages (from nibabel>=2.1.0->nipype) (68.0.0)\n",
            "Requirement already satisfied: lxml>=3.3.5 in /Users/galassiae/fsl/lib/python3.11/site-packages (from prov>=1.5.2->nipype) (4.9.3)\n",
            "Requirement already satisfied: pyparsing>=2.1.4 in /Users/galassiae/fsl/lib/python3.11/site-packages (from pydot>=1.2.3->nipype) (3.0.9)\n",
            "Requirement already satisfied: six>=1.5 in /Users/galassiae/fsl/lib/python3.11/site-packages (from python-dateutil>=2.2->nipype) (1.16.0)\n",
            "Requirement already satisfied: isodate<0.7.0,>=0.6.0 in /Users/galassiae/fsl/lib/python3.11/site-packages (from rdflib>=5.0.0->nipype) (0.6.1)\n",
            "Requirement already satisfied: charset-normalizer<4,>=2 in /Users/galassiae/fsl/lib/python3.11/site-packages (from requests->etelemetry>=0.2.0->nipype) (3.1.0)\n",
            "Requirement already satisfied: idna<4,>=2.5 in /Users/galassiae/fsl/lib/python3.11/site-packages (from requests->etelemetry>=0.2.0->nipype) (3.4)\n",
            "Requirement already satisfied: urllib3<3,>=1.21.1 in /Users/galassiae/fsl/lib/python3.11/site-packages (from requests->etelemetry>=0.2.0->nipype) (1.26.15)\n",
            "Requirement already satisfied: certifi>=2017.4.17 in /Users/galassiae/fsl/lib/python3.11/site-packages (from requests->etelemetry>=0.2.0->nipype) (2023.5.7)\n",
            "\u001b[33mWARNING: Skipping /Users/galassiae/fsl/lib/python3.11/site-packages/nlopt-2.7.1.dist-info due to invalid metadata entry 'name'\u001b[0m\u001b[33m\n",
            "\u001b[0mInstalling collected packages: looseversion, traits, simplejson, filelock, ci-info, etelemetry, nipype\n",
            "\u001b[33mWARNING: Skipping /Users/galassiae/fsl/lib/python3.11/site-packages/nlopt-2.7.1.dist-info due to invalid metadata entry 'name'\u001b[0m\u001b[33m\n",
            "\u001b[0mSuccessfully installed ci-info-0.3.0 etelemetry-0.3.1 filelock-3.14.0 looseversion-1.3.0 nipype-1.8.6 simplejson-3.19.2 traits-6.3.2\n"
          ]
        }
      ],
      "source": [
        "!pip install nipype"
      ]
    },
    {
      "cell_type": "code",
      "execution_count": 2,
      "metadata": {
        "id": "lpozQIn0m0gx"
      },
      "outputs": [],
      "source": [
        "# import the relevant Python packages\n",
        "import numpy\n",
        "import nibabel\n",
        "import nipype\n",
        "import matplotlib\n",
        "import subprocess"
      ]
    },
    {
      "cell_type": "code",
      "execution_count": 4,
      "metadata": {
        "colab": {
          "base_uri": "https://localhost:8080/"
        },
        "id": "NSNQWINHon1N",
        "outputId": "fa736f4b-fda9-498c-a0a8-ad4417259862"
      },
      "outputs": [
        {
          "name": "stdout",
          "output_type": "stream",
          "text": [
            "\u001b[33mWARNING: Skipping /Users/galassiae/fsl/lib/python3.11/site-packages/nlopt-2.7.1.dist-info due to invalid metadata entry 'name'\u001b[0m\u001b[33m\n",
            "\u001b[0mRequirement already satisfied: jedi in /Users/galassiae/fsl/lib/python3.11/site-packages (0.19.0)\n",
            "Requirement already satisfied: parso<0.9.0,>=0.8.3 in /Users/galassiae/fsl/lib/python3.11/site-packages (from jedi) (0.8.3)\n",
            "\u001b[33mWARNING: Skipping /Users/galassiae/fsl/lib/python3.11/site-packages/nlopt-2.7.1.dist-info due to invalid metadata entry 'name'\u001b[0m\u001b[33m\n",
            "\u001b[0m"
          ]
        }
      ],
      "source": [
        "!pip install jedi"
      ]
    },
    {
      "cell_type": "code",
      "execution_count": 5,
      "metadata": {
        "colab": {
          "base_uri": "https://localhost:8080/"
        },
        "id": "tvqIsDIen9sS",
        "outputId": "774d13be-d422-4c17-9242-df5b8e0c63f7"
      },
      "outputs": [
        {
          "name": "stdout",
          "output_type": "stream",
          "text": [
            "\u001b[33mWARNING: Skipping /Users/galassiae/fsl/lib/python3.11/site-packages/nlopt-2.7.1.dist-info due to invalid metadata entry 'name'\u001b[0m\u001b[33m\n",
            "\u001b[0mCollecting pypet2bids\n",
            "  Using cached pypet2bids-1.3.9-py3-none-any.whl (199 kB)\n",
            "Requirement already satisfied: joblib<2.0.0,>=1.2.0 in /Users/galassiae/fsl/lib/python3.11/site-packages (from pypet2bids) (1.3.2)\n",
            "Collecting json-maj<0.0.9,>=0.0.8 (from pypet2bids)\n",
            "  Using cached json_maj-0.0.8-py3-none-any.whl (4.7 kB)\n",
            "Requirement already satisfied: nibabel>=3.2.1 in /Users/galassiae/fsl/lib/python3.11/site-packages (from pypet2bids) (5.0.1)\n",
            "Requirement already satisfied: numpy<2.0.0,>=1.21.3 in /Users/galassiae/fsl/lib/python3.11/site-packages (from pypet2bids) (1.24.4)\n",
            "Collecting openpyxl<4.0.0,>=3.0.9 (from pypet2bids)\n",
            "  Using cached openpyxl-3.1.2-py2.py3-none-any.whl (249 kB)\n",
            "Collecting pandas<2.0.0,>=1.4.4 (from pypet2bids)\n",
            "  Using cached pandas-1.5.3-cp311-cp311-macosx_11_0_arm64.whl (10.8 MB)\n",
            "Requirement already satisfied: pydicom<3.0.0,>=2.2.2 in /Users/galassiae/fsl/lib/python3.11/site-packages (from pypet2bids) (2.4.3)\n",
            "Requirement already satisfied: pyparsing<4.0.0,>=3.0.4 in /Users/galassiae/fsl/lib/python3.11/site-packages (from pypet2bids) (3.0.9)\n",
            "Requirement already satisfied: python-dateutil<3.0.0,>=2.8.2 in /Users/galassiae/fsl/lib/python3.11/site-packages (from pypet2bids) (2.8.2)\n",
            "Collecting python-dotenv<0.20.0,>=0.19.1 (from pypet2bids)\n",
            "  Using cached python_dotenv-0.19.2-py2.py3-none-any.whl (17 kB)\n",
            "Collecting pyxlsb<2.0.0,>=1.0.9 (from pypet2bids)\n",
            "  Using cached pyxlsb-1.0.10-py2.py3-none-any.whl (23 kB)\n",
            "Requirement already satisfied: scipy<2.0.0,>=1.7.1 in /Users/galassiae/fsl/lib/python3.11/site-packages (from pypet2bids) (1.11.2)\n",
            "Requirement already satisfied: six<2.0.0,>=1.16.0 in /Users/galassiae/fsl/lib/python3.11/site-packages (from pypet2bids) (1.16.0)\n",
            "Collecting toml>=0.10.2 (from pypet2bids)\n",
            "  Using cached toml-0.10.2-py2.py3-none-any.whl (16 kB)\n",
            "Collecting xlrd<3.0.0,>=2.0.1 (from pypet2bids)\n",
            "  Using cached xlrd-2.0.1-py2.py3-none-any.whl (96 kB)\n",
            "Requirement already satisfied: packaging>=17 in /Users/galassiae/fsl/lib/python3.11/site-packages (from nibabel>=3.2.1->pypet2bids) (23.1)\n",
            "Requirement already satisfied: setuptools in /Users/galassiae/fsl/lib/python3.11/site-packages (from nibabel>=3.2.1->pypet2bids) (68.0.0)\n",
            "Collecting et-xmlfile (from openpyxl<4.0.0,>=3.0.9->pypet2bids)\n",
            "  Using cached et_xmlfile-1.1.0-py3-none-any.whl (4.7 kB)\n",
            "Requirement already satisfied: pytz>=2020.1 in /Users/galassiae/fsl/lib/python3.11/site-packages (from pandas<2.0.0,>=1.4.4->pypet2bids) (2023.3)\n",
            "\u001b[33mWARNING: Skipping /Users/galassiae/fsl/lib/python3.11/site-packages/nlopt-2.7.1.dist-info due to invalid metadata entry 'name'\u001b[0m\u001b[33m\n",
            "\u001b[0mInstalling collected packages: pyxlsb, xlrd, toml, python-dotenv, json-maj, et-xmlfile, pandas, openpyxl, pypet2bids\n",
            "  Attempting uninstall: pandas\n",
            "    Found existing installation: pandas 2.0.3\n",
            "    Uninstalling pandas-2.0.3:\n",
            "      Successfully uninstalled pandas-2.0.3\n",
            "\u001b[33mWARNING: Skipping /Users/galassiae/fsl/lib/python3.11/site-packages/nlopt-2.7.1.dist-info due to invalid metadata entry 'name'\u001b[0m\u001b[33m\n",
            "\u001b[0mSuccessfully installed et-xmlfile-1.1.0 json-maj-0.0.8 openpyxl-3.1.2 pandas-1.5.3 pypet2bids-1.3.9 python-dotenv-0.19.2 pyxlsb-1.0.10 toml-0.10.2 xlrd-2.0.1\n"
          ]
        }
      ],
      "source": [
        "!pip install pypet2bids"
      ]
    },
    {
      "cell_type": "markdown",
      "metadata": {
        "id": "ZBHDnhIs3Jbx"
      },
      "source": [
        "## download Phantom ZIP and extract"
      ]
    },
    {
      "cell_type": "code",
      "execution_count": 24,
      "metadata": {
        "colab": {
          "base_uri": "https://localhost:8080/"
        },
        "id": "l0pLs9KqpYsz",
        "outputId": "1b7ed79c-8f60-4050-8c20-bef44581d2ab"
      },
      "outputs": [
        {
          "name": "stdout",
          "output_type": "stream",
          "text": [
            "--2024-05-29 11:22:35--  https://openneuropet.s3.amazonaws.com/US-sourced-OpenNeuroPET-Phantoms.zip\n",
            "Resolving openneuropet.s3.amazonaws.com (openneuropet.s3.amazonaws.com)... 52.216.44.169, 52.216.220.217, 52.217.71.140, ...\n",
            "Connecting to openneuropet.s3.amazonaws.com (openneuropet.s3.amazonaws.com)|52.216.44.169|:443... connected.\n",
            "HTTP request sent, awaiting response... 200 OK\n",
            "Length: 115449025 (110M) [application/zip]\n",
            "Saving to: ‘PHANTOMS.zip’\n",
            "\n",
            "PHANTOMS.zip        100%[===================>] 110.10M  61.1MB/s    in 1.8s    \n",
            "\n",
            "2024-05-29 11:22:37 (61.1 MB/s) - ‘PHANTOMS.zip’ saved [115449025/115449025]\n",
            "\n",
            "Archive:  PHANTOMS.zip\n",
            "replace __MACOSX/._OpenNeuroPET-Phantoms? [y]es, [n]o, [A]ll, [N]one, [r]ename: "
          ]
        }
      ],
      "source": [
        "!wget -O PHANTOMS.zip https://openneuropet.s3.amazonaws.com/US-sourced-OpenNeuroPET-Phantoms.zip\n",
        "!unzip PHANTOMS.zip"
      ]
    },
    {
      "cell_type": "code",
      "execution_count": 13,
      "metadata": {
        "colab": {
          "base_uri": "https://localhost:8080/"
        },
        "id": "jRJcdednwHWO",
        "outputId": "24916e9a-99c0-49e0-eb40-84f52d8ebe55"
      },
      "outputs": [
        {
          "name": "stdout",
          "output_type": "stream",
          "text": [
            "tree is installed\n"
          ]
        }
      ],
      "source": [
        "import subprocess\n",
        "check_for_tree = subprocess.run(['tree', '--version'], capture_output=True)\n",
        "if check_for_tree.returncode == 0:\n",
        "    pass\n",
        "else:\n",
        "    import platform\n",
        "    operating_system = platform.system()\n",
        "    if operating_system == 'Linux':\n",
        "        subprocess.run(\"apt-get install tree -y\", shell=True)\n",
        "    elif operating_system == 'Darwin':\n",
        "        subprocess.run(\"brew install tree\", shell=True)\n",
        "    else:\n",
        "        print(\"You're on your own windows user.\")"
      ]
    },
    {
      "cell_type": "code",
      "execution_count": 23,
      "metadata": {
        "colab": {
          "base_uri": "https://localhost:8080/"
        },
        "id": "oNGqcj0uvzjQ",
        "outputId": "f31052ce-f05b-40dc-c1f2-e165f601b250"
      },
      "outputs": [
        {
          "name": "stdout",
          "output_type": "stream",
          "text": [
            "\u001b[01;34mOpenNeuroPET-Phantoms/\u001b[0m\n",
            "├── \u001b[00mREADME\u001b[0m\n",
            "├── \u001b[01;34mcode\u001b[0m\n",
            "│   ├── \u001b[00mmatlab_conversions.m\u001b[0m\n",
            "│   └── \u001b[00mpython_conversions.sh\u001b[0m\n",
            "├── \u001b[00mdataset_description.json\u001b[0m\n",
            "├── \u001b[01;34msourcedata\u001b[0m\n",
            "│   ├── \u001b[01;34mGeneralElectricAdvance-NIMH\u001b[0m\n",
            "│   │   ├── \u001b[01;34m2d_unif_lt_ramp\u001b[0m  [35 entries exceeds filelimit, not opening dir]\n",
            "│   │   ├── \u001b[01;34m3d375_unif_lt_ramp\u001b[0m  [35 entries exceeds filelimit, not opening dir]\n",
            "│   │   ├── \u001b[01;34m3d_unif_lt_ramp\u001b[0m  [35 entries exceeds filelimit, not opening dir]\n",
            "│   │   └── \u001b[01;34mlong_trans\u001b[0m  [35 entries exceeds filelimit, not opening dir]\n",
            "│   ├── \u001b[01;34mGeneralElectricSignaPETMR-NIMH\u001b[0m  [89 entries exceeds filelimit, not opening dir]\n",
            "│   ├── \u001b[01;34mSiemensBiographPETMR-NIMH\u001b[0m\n",
            "│   │   ├── \u001b[01;34mAC_TOF\u001b[0m  [150 entries exceeds filelimit, not opening dir]\n",
            "│   │   ├── \u001b[01;34mCT\u001b[0m  [148 entries exceeds filelimit, not opening dir]\n",
            "│   │   └── \u001b[01;34mNAC\u001b[0m  [148 entries exceeds filelimit, not opening dir]\n",
            "│   └── \u001b[01;34mSiemensHRRT-JHU\u001b[0m\n",
            "│       └── \u001b[00mHoffman.v\u001b[0m\n",
            "├── \u001b[01;34msub-GeneralElectricAdvanceLongNIMH\u001b[0m\n",
            "│   └── \u001b[01;34mpet\u001b[0m\n",
            "│       ├── \u001b[00msub-GeneralElectricAdvanceLongNIMH_pet.json\u001b[0m\n",
            "│       └── \u001b[01;31msub-GeneralElectricAdvanceLongNIMH_pet.nii.gz\u001b[0m\n",
            "├── \u001b[01;34msub-GeneralElectricAdvanceNIMH\u001b[0m\n",
            "│   └── \u001b[01;34mpet\u001b[0m\n",
            "│       ├── \u001b[00msub-GeneralElectricAdvanceNIMH_pet.json\u001b[0m\n",
            "│       └── \u001b[01;31msub-GeneralElectricAdvanceNIMH_pet.nii.gz\u001b[0m\n",
            "├── \u001b[01;34msub-GeneralElectricSignaNIMH\u001b[0m\n",
            "│   └── \u001b[01;34mpet\u001b[0m\n",
            "│       ├── \u001b[00msub-GeneralElectricSignaNIMH_pet.json\u001b[0m\n",
            "│       └── \u001b[01;31msub-GeneralElectricSignaNIMH_pet.nii.gz\u001b[0m\n",
            "├── \u001b[01;34msub-SiemensBiographNIMH\u001b[0m\n",
            "│   └── \u001b[01;34mpet\u001b[0m\n",
            "│       ├── \u001b[00msub-SiemensBiographNIMH_pet.json\u001b[0m\n",
            "│       └── \u001b[01;31msub-SiemensBiographNIMH_pet.nii.gz\u001b[0m\n",
            "└── \u001b[01;34msub-SiemensHRRTNRU\u001b[0m\n",
            "    └── \u001b[01;34mpet\u001b[0m\n",
            "        ├── \u001b[00msub-SiemensHRRTNRU_pet.json\u001b[0m\n",
            "        └── \u001b[01;31msub-SiemensHRRTNRU_pet.nii.gz\u001b[0m\n",
            "\n",
            "23 directories, 15 files\n"
          ]
        }
      ],
      "source": [
        "!tree OpenNeuroPET-Phantoms/ --filelimit 15"
      ]
    },
    {
      "cell_type": "code",
      "execution_count": 22,
      "metadata": {
        "colab": {
          "base_uri": "https://localhost:8080/"
        },
        "id": "0d5d_WQr061H",
        "outputId": "f800a7be-fa0f-47fc-ab6d-9f218e8f4be0"
      },
      "outputs": [
        {
          "name": "stdout",
          "output_type": "stream",
          "text": [
            "dcm2niix is installed\n",
            "/Users/galassiae/fsl/bin/dcm2niix\n",
            "\n"
          ]
        }
      ],
      "source": [
        "# check for dcm2niix\n",
        "check_dcm2niix = subprocess.run(\"dcm2niix -h\", shell=True, capture_output=True)\n",
        "if check_dcm2niix.returncode == 0:\n",
        "    print('dcm2niix is installed')\n",
        "    # set dcm2niix path as this is running in an ipython notebook\n",
        "    dcm2niix_path = subprocess.run(\"which dcm2niix\", shell=True, capture_output=True)\n",
        "    print(dcm2niix_path.stdout.decode())\n",
        "else:\n",
        "    print('dcm2niix is not installed')\n",
        "    import platform\n",
        "    operating_system = platform.system()\n",
        "\n",
        "    if operating_system == 'Linux':\n",
        "        subprocess.run(\"apt-get install dcm2niix -y\", shell=True)\n",
        "    elif operating_system == 'Darwin':\n",
        "        subprocess.run(\"brew install dcm2niix\", shell=True)\n",
        "    else:\n",
        "        print(\"You're on your own windows user.\")"
      ]
    },
    {
      "cell_type": "code",
      "execution_count": 21,
      "metadata": {
        "colab": {
          "base_uri": "https://localhost:8080/"
        },
        "id": "K_No-S4Awa7N",
        "outputId": "09c5b762-28a7-4c6e-d887-bbeea49357d6"
      },
      "outputs": [
        {
          "name": "stdout",
          "output_type": "stream",
          "text": [
            "\u001b[31;20m2024-05-29 11:12:59,264 - pypet2bids - ERROR - Unable to locate dcm2niix executable at None (helper_functions.py:1026)\u001b[0m\n"
          ]
        },
        {
          "name": "stderr",
          "output_type": "stream",
          "text": [
            "Traceback (most recent call last):\n",
            "  File \"/Users/galassiae/fsl/bin/dcm2niix4pet\", line 8, in <module>\n",
            "    sys.exit(main())\n",
            "             ^^^^^^\n",
            "  File \"/Users/galassiae/fsl/lib/python3.11/site-packages/pypet2bids/dcm2niix4pet.py\", line 1216, in main\n",
            "    converter = Dcm2niix4PET(\n",
            "                ^^^^^^^^^^^^^\n",
            "  File \"/Users/galassiae/fsl/lib/python3.11/site-packages/pypet2bids/dcm2niix4pet.py\", line 324, in __init__\n",
            "    image_header_dict=self.dicom_headers[next(iter(self.dicom_headers))],\n",
            "                                         ^^^^^^^^^^^^^^^^^^^^^^^^^^^^^^\n",
            "StopIteration\n"
          ]
        },
        {
          "data": {
            "text/plain": [
              "CompletedProcess(args='dcm2niix4pet ./OpenNeuroPET-Phantoms/source/SiemensBiographPETMR-NRU -d mynewfolder', returncode=1)"
            ]
          },
          "execution_count": 21,
          "metadata": {},
          "output_type": "execute_result"
        }
      ],
      "source": [
        "!dcm2niix4pet ./OpenNeuroPET-Phantoms/source/SiemensBiographPETMR-NRU -d mynewfolder"
      ]
    },
    {
      "cell_type": "code",
      "execution_count": 18,
      "metadata": {
        "colab": {
          "base_uri": "https://localhost:8080/"
        },
        "id": "pm3Hgam_1lvR",
        "outputId": "a54b3b12-d59c-4ec9-8efb-6eef7737947e"
      },
      "outputs": [
        {
          "name": "stdout",
          "output_type": "stream",
          "text": [
            "./mynewfolder\n",
            "├── Phantom_PetAcquisition_20.01.14-10_39_18-STD-1.3.12.2.1107.5.2.38.51014_20220421120447_30003.json\n",
            "└── Phantom_PetAcquisition_20.01.14-10_39_18-STD-1.3.12.2.1107.5.2.38.51014_20220421120447_30003.nii.gz\n",
            "\n",
            "0 directories, 2 files\n"
          ]
        }
      ],
      "source": [
        "!tree ./mynewfolder"
      ]
    },
    {
      "cell_type": "code",
      "execution_count": 19,
      "metadata": {
        "colab": {
          "base_uri": "https://localhost:8080/"
        },
        "id": "v1xM2hVK1pCF",
        "outputId": "205a55ab-9e8c-499e-fa09-32fc8904d9b2"
      },
      "outputs": [
        {
          "name": "stdout",
          "output_type": "stream",
          "text": [
            "Attempting to locate missing BIDS fields in dicom header\n",
            "FOUND BodyPartExamined corresponding to BIDS BodyPart: BRAIN\n",
            "NOT FOUND MappingResourceName corresponding to BIDS TracerName in dicom header.\n",
            "NOT FOUND CodeMeaning corresponding to BIDS TracerRadionuclide in dicom header.\n",
            "NOT FOUND RadionuclideTotalDose corresponding to BIDS InjectedRadioactivity in dicom header.\n",
            "NOT FOUND RadiopharmaceuticalSpecificActivity corresponding to BIDS MolarActivity in dicom header.\n",
            "NOT FOUND RadiopharmaceuticalVolume corresponding to BIDS InjectedVolume in dicom header.\n",
            "NOT FOUND InterventionDrugName corresponding to BIDS PharmaceuticalName in dicom header.\n",
            "NOT FOUND InterventionDrugDose corresponding to BIDS PharmaceuticalDoseAmount in dicom header.\n",
            "NOT FOUND RadiopharmaceuticalStartTime corresponding to BIDS InjectionStart in dicom header.\n",
            "FOUND AcquisitionDate corresponding to BIDS ScanDate: 20220421\n",
            "NOT FOUND RadiopharmaceuticalStopTime corresponding to BIDS InjectionEnd in dicom header.\n",
            "FOUND ReconstructionMethod corresponding to BIDS ReconMethodName: OP-OSEM4i21s\n",
            "FOUND ReconstructionMethod corresponding to BIDS ReconMethodParameterLabels: OP-OSEM4i21s\n",
            "FOUND ReconstructionMethod corresponding to BIDS ReconMethodParameterUnits: OP-OSEM4i21s\n",
            "FOUND ReconstructionMethod corresponding to BIDS ReconMethodParameterValues: OP-OSEM4i21s\n",
            "FOUND ConvolutionKernel corresponding to BIDS ReconFilterType: XYZGAUSSIAN3.00\n",
            "FOUND ConvolutionKernel corresponding to BIDS ReconFilterSize: XYZGAUSSIAN3.00\n",
            "FOUND AttenuationCorrectionMethod corresponding to BIDS AttenuationCorrection: measured\n",
            "FOUND ScatterFractionFactor corresponding to BIDS ScatterFraction: 29.8623\n",
            "FOUND DecayFactor corresponding to BIDS DecayCorrectionFactor: 1.01587\n",
            "\u001b[33mWARNING!!!! JSON Field Manufacturer with value Siemens does not match dicom value of SIEMENS\u001b[0m\n",
            "\u001b[33mWARNING!!!! JSON Field Units with value Bq/mL does not match dicom value of BQML\u001b[0m\n"
          ]
        }
      ],
      "source": [
        "!dcm2niix4pet ./OpenNeuroPET-Demo_raw/source/SiemensBiographPETMR-NRU -d mynewfolder2 --kwargs TimeZero=ScanStart Manufacturer=Siemens ManufacturersModelName=Biograph InstitutionName=\"Rigshospitalet, NRU, DK\" BodyPart=Phantom Units=Bq/mL TracerName=none TracerRadionuclide=F18 InjectedRadioactivity=81.24 SpecificRadioactivity=13019.23 ModeOfAdministration=infusion FrameTimesStart=0 AcquisitionMode=\"list mode\" ImageDecayCorrected=true ImageDecayCorrectionTime=0 AttenuationCorrection=MR-corrected FrameDuration=300 FrameTimesStart=0"
      ]
    },
    {
      "cell_type": "markdown",
      "metadata": {
        "id": "eFtCc8qCQj4s"
      },
      "source": [
        "## validate BIDS dataset\n",
        "https://www.npmjs.com/package/bids-validator"
      ]
    },
    {
      "cell_type": "code",
      "execution_count": null,
      "metadata": {
        "id": "-bPDq7RXQYkl"
      },
      "outputs": [],
      "source": [
        "!pip install bids_validator"
      ]
    },
    {
      "cell_type": "code",
      "execution_count": null,
      "metadata": {
        "id": "7gkAWJclQfFE"
      },
      "outputs": [],
      "source": [
        "from bids_validator import BIDSValidator"
      ]
    },
    {
      "cell_type": "code",
      "execution_count": null,
      "metadata": {
        "id": "cdd7UZMqQgAw"
      },
      "outputs": [],
      "source": [
        "BIDSValidator().is_bids('.') # not up to date, use browser version for now"
      ]
    },
    {
      "cell_type": "markdown",
      "metadata": {
        "id": "iq5V5Gtu5w0b"
      },
      "source": [
        "## run only if freesurfer is installed"
      ]
    },
    {
      "cell_type": "code",
      "execution_count": null,
      "metadata": {
        "id": "tDGo8KQ51uHe"
      },
      "outputs": [],
      "source": [
        "!mkdir PETprocessing"
      ]
    },
    {
      "cell_type": "code",
      "execution_count": null,
      "metadata": {
        "id": "hrECWZDq1xPB"
      },
      "outputs": [],
      "source": [
        "!cd PETprocessing"
      ]
    },
    {
      "cell_type": "code",
      "execution_count": null,
      "metadata": {
        "id": "Qju2_cJO10Wb"
      },
      "outputs": [],
      "source": [
        "!git clone https://github.com/openneuropet/PET_pipelines.git "
      ]
    },
    {
      "cell_type": "code",
      "execution_count": null,
      "metadata": {
        "id": "WBdhdIDE187p"
      },
      "outputs": [],
      "source": [
        "!cd PET_pipelines/pyPetSurfer "
      ]
    },
    {
      "cell_type": "code",
      "execution_count": null,
      "metadata": {
        "id": "BhkxGtPM2K-N"
      },
      "outputs": [],
      "source": [
        "!wget https://www.dropbox.com/sh/69dwtnv29wd7jlx/AADnw5FvAANpvzKAxVQTnyhBa?dl=0 "
      ]
    },
    {
      "cell_type": "code",
      "execution_count": null,
      "metadata": {
        "id": "578shAXE2TMV"
      },
      "outputs": [],
      "source": [
        "!ls PET_pipelines/pyPetSurfer"
      ]
    },
    {
      "cell_type": "code",
      "execution_count": null,
      "metadata": {
        "id": "AK3Gqis-2WWF"
      },
      "outputs": [],
      "source": [
        "!unzip AADnw5FvAANpvzKAxVQTnyhBa?dl=0"
      ]
    },
    {
      "cell_type": "code",
      "execution_count": null,
      "metadata": {
        "id": "fBUpq_AP4Ue0"
      },
      "outputs": [],
      "source": [
        "!pip install mri_coreg"
      ]
    },
    {
      "cell_type": "code",
      "execution_count": null,
      "metadata": {
        "id": "w4zrtiBq38UY"
      },
      "outputs": [],
      "source": [
        "%run ./example.py"
      ]
    },
    {
      "cell_type": "code",
      "execution_count": null,
      "metadata": {
        "id": "KK5I5qhJ31VJ"
      },
      "outputs": [],
      "source": [
        "!ls .\n"
      ]
    }
  ],
  "metadata": {
    "colab": {
      "provenance": []
    },
    "kernelspec": {
      "display_name": "Python 3",
      "name": "python3"
    },
    "language_info": {
      "codemirror_mode": {
        "name": "ipython",
        "version": 3
      },
      "file_extension": ".py",
      "mimetype": "text/x-python",
      "name": "python",
      "nbconvert_exporter": "python",
      "pygments_lexer": "ipython3",
      "version": "3.11.5"
    }
  },
  "nbformat": 4,
  "nbformat_minor": 0
}
